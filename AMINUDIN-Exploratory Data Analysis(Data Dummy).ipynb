{
 "cells": [
  {
   "cell_type": "code",
   "execution_count": 1,
   "id": "c35dd30f",
   "metadata": {},
   "outputs": [],
   "source": [
    "# Import library untuk membaca file yang akan kita gunakan sebagai bahan analisa\n",
    "import pandas as pd\n",
    "import numpy as np\n",
    "import seaborn as sns\n",
    "import matplotlib.pyplot as plt"
   ]
  },
  {
   "cell_type": "code",
   "execution_count": 3,
   "id": "ea1d4206",
   "metadata": {},
   "outputs": [
    {
     "data": {
      "text/html": [
       "<div>\n",
       "<style scoped>\n",
       "    .dataframe tbody tr th:only-of-type {\n",
       "        vertical-align: middle;\n",
       "    }\n",
       "\n",
       "    .dataframe tbody tr th {\n",
       "        vertical-align: top;\n",
       "    }\n",
       "\n",
       "    .dataframe thead th {\n",
       "        text-align: right;\n",
       "    }\n",
       "</style>\n",
       "<table border=\"1\" class=\"dataframe\">\n",
       "  <thead>\n",
       "    <tr style=\"text-align: right;\">\n",
       "      <th></th>\n",
       "      <th>tanggal_penjualan</th>\n",
       "      <th>nama_cabang</th>\n",
       "      <th>target_harian</th>\n",
       "      <th>total_sales</th>\n",
       "      <th>produk_tidak_terjual_kemarin</th>\n",
       "      <th>produk_masuk</th>\n",
       "      <th>total_produk_tidak_terjual_today</th>\n",
       "      <th>total_produk_terjual_today</th>\n",
       "      <th>target_yn</th>\n",
       "      <th>harga_produk</th>\n",
       "      <th>total_pendapatan</th>\n",
       "      <th>fee_sales_per_produk_terjual</th>\n",
       "      <th>fee_sales</th>\n",
       "      <th>fee_per_sales</th>\n",
       "      <th>pendapatan_bersih_cabang</th>\n",
       "    </tr>\n",
       "  </thead>\n",
       "  <tbody>\n",
       "    <tr>\n",
       "      <th>0</th>\n",
       "      <td>1 Agu 2022</td>\n",
       "      <td>A1</td>\n",
       "      <td>77</td>\n",
       "      <td>8</td>\n",
       "      <td>0</td>\n",
       "      <td>218</td>\n",
       "      <td>1</td>\n",
       "      <td>217</td>\n",
       "      <td>Y</td>\n",
       "      <td>10000</td>\n",
       "      <td>2170000</td>\n",
       "      <td>2000</td>\n",
       "      <td>434000</td>\n",
       "      <td>54250.000000</td>\n",
       "      <td>1736000</td>\n",
       "    </tr>\n",
       "    <tr>\n",
       "      <th>1</th>\n",
       "      <td>1 Agu 2022</td>\n",
       "      <td>A2</td>\n",
       "      <td>73</td>\n",
       "      <td>3</td>\n",
       "      <td>9</td>\n",
       "      <td>44</td>\n",
       "      <td>4</td>\n",
       "      <td>49</td>\n",
       "      <td>N</td>\n",
       "      <td>10000</td>\n",
       "      <td>490000</td>\n",
       "      <td>2000</td>\n",
       "      <td>98000</td>\n",
       "      <td>32666.666667</td>\n",
       "      <td>392000</td>\n",
       "    </tr>\n",
       "    <tr>\n",
       "      <th>2</th>\n",
       "      <td>1 Agu 2022</td>\n",
       "      <td>A3</td>\n",
       "      <td>75</td>\n",
       "      <td>5</td>\n",
       "      <td>30</td>\n",
       "      <td>143</td>\n",
       "      <td>27</td>\n",
       "      <td>146</td>\n",
       "      <td>Y</td>\n",
       "      <td>10000</td>\n",
       "      <td>1460000</td>\n",
       "      <td>2000</td>\n",
       "      <td>292000</td>\n",
       "      <td>58400.000000</td>\n",
       "      <td>1168000</td>\n",
       "    </tr>\n",
       "    <tr>\n",
       "      <th>3</th>\n",
       "      <td>1 Agu 2022</td>\n",
       "      <td>A4</td>\n",
       "      <td>76</td>\n",
       "      <td>12</td>\n",
       "      <td>192</td>\n",
       "      <td>427</td>\n",
       "      <td>59</td>\n",
       "      <td>560</td>\n",
       "      <td>Y</td>\n",
       "      <td>10000</td>\n",
       "      <td>5600000</td>\n",
       "      <td>2000</td>\n",
       "      <td>1120000</td>\n",
       "      <td>93333.333333</td>\n",
       "      <td>4480000</td>\n",
       "    </tr>\n",
       "    <tr>\n",
       "      <th>4</th>\n",
       "      <td>1 Agu 2022</td>\n",
       "      <td>A5</td>\n",
       "      <td>74</td>\n",
       "      <td>3</td>\n",
       "      <td>1</td>\n",
       "      <td>72</td>\n",
       "      <td>0</td>\n",
       "      <td>73</td>\n",
       "      <td>N</td>\n",
       "      <td>10000</td>\n",
       "      <td>730000</td>\n",
       "      <td>2000</td>\n",
       "      <td>146000</td>\n",
       "      <td>48666.666667</td>\n",
       "      <td>584000</td>\n",
       "    </tr>\n",
       "  </tbody>\n",
       "</table>\n",
       "</div>"
      ],
      "text/plain": [
       "  tanggal_penjualan nama_cabang  target_harian  total_sales  \\\n",
       "0        1 Agu 2022          A1             77            8   \n",
       "1        1 Agu 2022          A2             73            3   \n",
       "2        1 Agu 2022          A3             75            5   \n",
       "3        1 Agu 2022          A4             76           12   \n",
       "4        1 Agu 2022          A5             74            3   \n",
       "\n",
       "   produk_tidak_terjual_kemarin  produk_masuk  \\\n",
       "0                             0           218   \n",
       "1                             9            44   \n",
       "2                            30           143   \n",
       "3                           192           427   \n",
       "4                             1            72   \n",
       "\n",
       "   total_produk_tidak_terjual_today  total_produk_terjual_today target_yn  \\\n",
       "0                                 1                         217         Y   \n",
       "1                                 4                          49         N   \n",
       "2                                27                         146         Y   \n",
       "3                                59                         560         Y   \n",
       "4                                 0                          73         N   \n",
       "\n",
       "   harga_produk  total_pendapatan  fee_sales_per_produk_terjual  fee_sales  \\\n",
       "0         10000           2170000                          2000     434000   \n",
       "1         10000            490000                          2000      98000   \n",
       "2         10000           1460000                          2000     292000   \n",
       "3         10000           5600000                          2000    1120000   \n",
       "4         10000            730000                          2000     146000   \n",
       "\n",
       "   fee_per_sales  pendapatan_bersih_cabang  \n",
       "0   54250.000000                   1736000  \n",
       "1   32666.666667                    392000  \n",
       "2   58400.000000                   1168000  \n",
       "3   93333.333333                   4480000  \n",
       "4   48666.666667                    584000  "
      ]
     },
     "execution_count": 3,
     "metadata": {},
     "output_type": "execute_result"
    }
   ],
   "source": [
    "# Membaca file\n",
    "data_penjualan = pd.read_excel(\"C:\\\\Users\\\\Anteraja\\\\Documents\\\\Data_dummy_clean.xlsx\")\n",
    "data_penjualan.head()"
   ]
  },
  {
   "cell_type": "code",
   "execution_count": 3,
   "id": "be210b73",
   "metadata": {},
   "outputs": [
    {
     "name": "stdout",
     "output_type": "stream",
     "text": [
      "<class 'pandas.core.frame.DataFrame'>\n",
      "RangeIndex: 175 entries, 0 to 174\n",
      "Data columns (total 15 columns):\n",
      " #   Column                            Non-Null Count  Dtype  \n",
      "---  ------                            --------------  -----  \n",
      " 0   tanggal_penjualan                 175 non-null    object \n",
      " 1   nama_cabang                       175 non-null    object \n",
      " 2   target_harian                     175 non-null    int64  \n",
      " 3   total_sales                       175 non-null    int64  \n",
      " 4   produk_tidak_terjual_kemarin      175 non-null    int64  \n",
      " 5   produk_masuk                      175 non-null    int64  \n",
      " 6   total_produk_tidak_terjual_today  175 non-null    int64  \n",
      " 7   total_produk_terjual_today        175 non-null    int64  \n",
      " 8   target_yn                         175 non-null    object \n",
      " 9   harga_produk                      175 non-null    int64  \n",
      " 10  total_pendapatan                  175 non-null    int64  \n",
      " 11  fee_sales_per_produk_terjual      175 non-null    int64  \n",
      " 12  fee_sales                         175 non-null    int64  \n",
      " 13  fee_per_sales                     175 non-null    float64\n",
      " 14  pendapatan_bersih_cabang          175 non-null    int64  \n",
      "dtypes: float64(1), int64(11), object(3)\n",
      "memory usage: 20.6+ KB\n"
     ]
    }
   ],
   "source": [
    "# Cek info data \n",
    "data_penjualan.info()"
   ]
  },
  {
   "cell_type": "code",
   "execution_count": 4,
   "id": "dba026c6",
   "metadata": {},
   "outputs": [
    {
     "data": {
      "text/plain": [
       "tanggal_penjualan                   0\n",
       "nama_cabang                         0\n",
       "target_harian                       0\n",
       "total_sales                         0\n",
       "produk_tidak_terjual_kemarin        0\n",
       "produk_masuk                        0\n",
       "total_produk_tidak_terjual_today    0\n",
       "total_produk_terjual_today          0\n",
       "target_yn                           0\n",
       "harga_produk                        0\n",
       "total_pendapatan                    0\n",
       "fee_sales_per_produk_terjual        0\n",
       "fee_sales                           0\n",
       "fee_per_sales                       0\n",
       "pendapatan_bersih_cabang            0\n",
       "dtype: int64"
      ]
     },
     "execution_count": 4,
     "metadata": {},
     "output_type": "execute_result"
    }
   ],
   "source": [
    "# Cek data untuk mengetahui apakah ada nilai yang tidak terbaca atau null \n",
    "data_penjualan.isnull().sum()"
   ]
  },
  {
   "cell_type": "code",
   "execution_count": 5,
   "id": "c8350445",
   "metadata": {},
   "outputs": [
    {
     "data": {
      "text/plain": [
       "Index(['tanggal_penjualan', 'nama_cabang', 'target_harian', 'total_sales',\n",
       "       'produk_tidak_terjual_kemarin', 'produk_masuk',\n",
       "       'total_produk_tidak_terjual_today', 'total_produk_terjual_today',\n",
       "       'target_yn', 'harga_produk', 'total_pendapatan',\n",
       "       'fee_sales_per_produk_terjual', 'fee_sales', 'fee_per_sales',\n",
       "       'pendapatan_bersih_cabang'],\n",
       "      dtype='object')"
      ]
     },
     "execution_count": 5,
     "metadata": {},
     "output_type": "execute_result"
    }
   ],
   "source": [
    "# kita ingin mengetahui nama-nama dari kolom data\n",
    "data_penjualan.columns"
   ]
  },
  {
   "cell_type": "code",
   "execution_count": 6,
   "id": "225a5eab",
   "metadata": {},
   "outputs": [
    {
     "data": {
      "text/plain": [
       "tanggal_penjualan                    object\n",
       "nama_cabang                          object\n",
       "target_harian                         int64\n",
       "total_sales                           int64\n",
       "produk_tidak_terjual_kemarin          int64\n",
       "produk_masuk                          int64\n",
       "total_produk_tidak_terjual_today      int64\n",
       "total_produk_terjual_today            int64\n",
       "target_yn                            object\n",
       "harga_produk                          int64\n",
       "total_pendapatan                      int64\n",
       "fee_sales_per_produk_terjual          int64\n",
       "fee_sales                             int64\n",
       "fee_per_sales                       float64\n",
       "pendapatan_bersih_cabang              int64\n",
       "dtype: object"
      ]
     },
     "execution_count": 6,
     "metadata": {},
     "output_type": "execute_result"
    }
   ],
   "source": [
    "data_penjualan.dtypes"
   ]
  },
  {
   "cell_type": "markdown",
   "id": "c6764e1e",
   "metadata": {},
   "source": [
    "NEXT.. LET'S BEGIN TO EXPLORATORY DATA ANALYSIS\n",
    "Statistik deskriptif tentang mendeskripsikan dan menyederhanakan suatu data. Dalam statistik deskriptif menggunakan dua pendekatan :\n",
    "1. Pendekatan kuantitatif dengan mendeskripsikan dan membuat summary data numerik.\n",
    "2. Pendekatan visual dengan mengilustrasikan data menggunakan chart, plot, histogram, dan visual grafis lainnya.\n",
    "\n",
    "*Poin terpenting dalam EDA yaitu curiosity atau rasa ingin tau yang tinggi. Sehingga melakukan list down pertanyaan akan mempermudah proses EDA.\n",
    "\n",
    "5 Pertanyaan yang ingin kita ketahui :\n",
    "1. Berapa rata-rata produk terjual ?\n",
    "2. pada tanggal berapa pendapatan tertinggi didapatkan ?\n",
    "3. Cek range tanggal penjualan, tampilkan table jumlah transaksi harian, lalu pada tanggal berapa penjualan terbanyak?\n",
    "4. Cabang mana yang memiliki penjualan terbanyak ?\n",
    "5. Cabang mana yang memiliki penjualan paling rendah ?"
   ]
  },
  {
   "cell_type": "code",
   "execution_count": 7,
   "id": "cd61fce4",
   "metadata": {},
   "outputs": [
    {
     "data": {
      "text/html": [
       "<div>\n",
       "<style scoped>\n",
       "    .dataframe tbody tr th:only-of-type {\n",
       "        vertical-align: middle;\n",
       "    }\n",
       "\n",
       "    .dataframe tbody tr th {\n",
       "        vertical-align: top;\n",
       "    }\n",
       "\n",
       "    .dataframe thead th {\n",
       "        text-align: right;\n",
       "    }\n",
       "</style>\n",
       "<table border=\"1\" class=\"dataframe\">\n",
       "  <thead>\n",
       "    <tr style=\"text-align: right;\">\n",
       "      <th></th>\n",
       "      <th>tanggal_penjualan</th>\n",
       "      <th>nama_cabang</th>\n",
       "      <th>target_harian</th>\n",
       "      <th>total_sales</th>\n",
       "      <th>produk_tidak_terjual_kemarin</th>\n",
       "      <th>produk_masuk</th>\n",
       "      <th>total_produk_tidak_terjual_today</th>\n",
       "      <th>total_produk_terjual_today</th>\n",
       "      <th>target_yn</th>\n",
       "      <th>harga_produk</th>\n",
       "      <th>total_pendapatan</th>\n",
       "      <th>fee_sales_per_produk_terjual</th>\n",
       "      <th>fee_sales</th>\n",
       "      <th>fee_per_sales</th>\n",
       "      <th>pendapatan_bersih_cabang</th>\n",
       "    </tr>\n",
       "  </thead>\n",
       "  <tbody>\n",
       "    <tr>\n",
       "      <th>0</th>\n",
       "      <td>1 Agu 2022</td>\n",
       "      <td>A1</td>\n",
       "      <td>77</td>\n",
       "      <td>8</td>\n",
       "      <td>0</td>\n",
       "      <td>218</td>\n",
       "      <td>1</td>\n",
       "      <td>217</td>\n",
       "      <td>Y</td>\n",
       "      <td>10000</td>\n",
       "      <td>2170000</td>\n",
       "      <td>2000</td>\n",
       "      <td>434000</td>\n",
       "      <td>54250.000000</td>\n",
       "      <td>1736000</td>\n",
       "    </tr>\n",
       "    <tr>\n",
       "      <th>1</th>\n",
       "      <td>1 Agu 2022</td>\n",
       "      <td>A2</td>\n",
       "      <td>73</td>\n",
       "      <td>3</td>\n",
       "      <td>9</td>\n",
       "      <td>44</td>\n",
       "      <td>4</td>\n",
       "      <td>49</td>\n",
       "      <td>N</td>\n",
       "      <td>10000</td>\n",
       "      <td>490000</td>\n",
       "      <td>2000</td>\n",
       "      <td>98000</td>\n",
       "      <td>32666.666667</td>\n",
       "      <td>392000</td>\n",
       "    </tr>\n",
       "    <tr>\n",
       "      <th>2</th>\n",
       "      <td>1 Agu 2022</td>\n",
       "      <td>A3</td>\n",
       "      <td>75</td>\n",
       "      <td>5</td>\n",
       "      <td>30</td>\n",
       "      <td>143</td>\n",
       "      <td>27</td>\n",
       "      <td>146</td>\n",
       "      <td>Y</td>\n",
       "      <td>10000</td>\n",
       "      <td>1460000</td>\n",
       "      <td>2000</td>\n",
       "      <td>292000</td>\n",
       "      <td>58400.000000</td>\n",
       "      <td>1168000</td>\n",
       "    </tr>\n",
       "    <tr>\n",
       "      <th>3</th>\n",
       "      <td>1 Agu 2022</td>\n",
       "      <td>A4</td>\n",
       "      <td>76</td>\n",
       "      <td>12</td>\n",
       "      <td>192</td>\n",
       "      <td>427</td>\n",
       "      <td>59</td>\n",
       "      <td>560</td>\n",
       "      <td>Y</td>\n",
       "      <td>10000</td>\n",
       "      <td>5600000</td>\n",
       "      <td>2000</td>\n",
       "      <td>1120000</td>\n",
       "      <td>93333.333333</td>\n",
       "      <td>4480000</td>\n",
       "    </tr>\n",
       "    <tr>\n",
       "      <th>4</th>\n",
       "      <td>1 Agu 2022</td>\n",
       "      <td>A5</td>\n",
       "      <td>74</td>\n",
       "      <td>3</td>\n",
       "      <td>1</td>\n",
       "      <td>72</td>\n",
       "      <td>0</td>\n",
       "      <td>73</td>\n",
       "      <td>N</td>\n",
       "      <td>10000</td>\n",
       "      <td>730000</td>\n",
       "      <td>2000</td>\n",
       "      <td>146000</td>\n",
       "      <td>48666.666667</td>\n",
       "      <td>584000</td>\n",
       "    </tr>\n",
       "  </tbody>\n",
       "</table>\n",
       "</div>"
      ],
      "text/plain": [
       "  tanggal_penjualan nama_cabang  target_harian  total_sales  \\\n",
       "0        1 Agu 2022          A1             77            8   \n",
       "1        1 Agu 2022          A2             73            3   \n",
       "2        1 Agu 2022          A3             75            5   \n",
       "3        1 Agu 2022          A4             76           12   \n",
       "4        1 Agu 2022          A5             74            3   \n",
       "\n",
       "   produk_tidak_terjual_kemarin  produk_masuk  \\\n",
       "0                             0           218   \n",
       "1                             9            44   \n",
       "2                            30           143   \n",
       "3                           192           427   \n",
       "4                             1            72   \n",
       "\n",
       "   total_produk_tidak_terjual_today  total_produk_terjual_today target_yn  \\\n",
       "0                                 1                         217         Y   \n",
       "1                                 4                          49         N   \n",
       "2                                27                         146         Y   \n",
       "3                                59                         560         Y   \n",
       "4                                 0                          73         N   \n",
       "\n",
       "   harga_produk  total_pendapatan  fee_sales_per_produk_terjual  fee_sales  \\\n",
       "0         10000           2170000                          2000     434000   \n",
       "1         10000            490000                          2000      98000   \n",
       "2         10000           1460000                          2000     292000   \n",
       "3         10000           5600000                          2000    1120000   \n",
       "4         10000            730000                          2000     146000   \n",
       "\n",
       "   fee_per_sales  pendapatan_bersih_cabang  \n",
       "0   54250.000000                   1736000  \n",
       "1   32666.666667                    392000  \n",
       "2   58400.000000                   1168000  \n",
       "3   93333.333333                   4480000  \n",
       "4   48666.666667                    584000  "
      ]
     },
     "execution_count": 7,
     "metadata": {},
     "output_type": "execute_result"
    }
   ],
   "source": [
    "data_penjualan.head()"
   ]
  },
  {
   "cell_type": "code",
   "execution_count": 8,
   "id": "da60a64a",
   "metadata": {},
   "outputs": [
    {
     "data": {
      "image/png": "[encoded data removed]",
      "text/plain": [
       "<Figure size 432x288 with 1 Axes>"
      ]
     },
     "metadata": {},
     "output_type": "display_data"
    }
   ],
   "source": [
    "# persentase target dari cabang\n",
    "data_penjualan['target_yn'].value_counts().plot.pie(autopct='%1.1f%%',shadow=True)\n",
    "plt.show()"
   ]
  },
  {
   "cell_type": "markdown",
   "id": "9925e9b2",
   "metadata": {},
   "source": [
    "Target pencapaian selama 1 week sebesar 96%."
   ]
  },
  {
   "cell_type": "markdown",
   "id": "0caa830c",
   "metadata": {},
   "source": [
    "1. Berapa rata-rata produk terjual ?"
   ]
  },
  {
   "cell_type": "code",
   "execution_count": 9,
   "id": "810c48bc",
   "metadata": {},
   "outputs": [
    {
     "data": {
      "text/plain": [
       "count     175.000000\n",
       "mean      451.514286\n",
       "std       319.329143\n",
       "min        20.000000\n",
       "25%       150.500000\n",
       "50%       395.000000\n",
       "75%       659.500000\n",
       "max      1208.000000\n",
       "Name: total_produk_terjual_today, dtype: float64"
      ]
     },
     "execution_count": 9,
     "metadata": {},
     "output_type": "execute_result"
    }
   ],
   "source": [
    "data_penjualan['total_produk_terjual_today'].describe()"
   ]
  },
  {
   "cell_type": "code",
   "execution_count": 10,
   "id": "9b805ded",
   "metadata": {},
   "outputs": [],
   "source": [
    "#Another Insight (rataan produk terjual dimasing-masing store)\n",
    "data_penjualan_group_produk_terjual = data_penjualan.groupby('nama_cabang')['total_produk_terjual_today'].mean().reset_index()"
   ]
  },
  {
   "cell_type": "code",
   "execution_count": 11,
   "id": "0eca9fb7",
   "metadata": {},
   "outputs": [
    {
     "data": {
      "text/html": [
       "<div>\n",
       "<style scoped>\n",
       "    .dataframe tbody tr th:only-of-type {\n",
       "        vertical-align: middle;\n",
       "    }\n",
       "\n",
       "    .dataframe tbody tr th {\n",
       "        vertical-align: top;\n",
       "    }\n",
       "\n",
       "    .dataframe thead th {\n",
       "        text-align: right;\n",
       "    }\n",
       "</style>\n",
       "<table border=\"1\" class=\"dataframe\">\n",
       "  <thead>\n",
       "    <tr style=\"text-align: right;\">\n",
       "      <th></th>\n",
       "      <th>nama_cabang</th>\n",
       "      <th>total_produk_terjual_today</th>\n",
       "    </tr>\n",
       "  </thead>\n",
       "  <tbody>\n",
       "    <tr>\n",
       "      <th>0</th>\n",
       "      <td>A1</td>\n",
       "      <td>314.285714</td>\n",
       "    </tr>\n",
       "    <tr>\n",
       "      <th>1</th>\n",
       "      <td>A10</td>\n",
       "      <td>747.714286</td>\n",
       "    </tr>\n",
       "    <tr>\n",
       "      <th>2</th>\n",
       "      <td>A11</td>\n",
       "      <td>690.285714</td>\n",
       "    </tr>\n",
       "    <tr>\n",
       "      <th>3</th>\n",
       "      <td>A12</td>\n",
       "      <td>737.000000</td>\n",
       "    </tr>\n",
       "    <tr>\n",
       "      <th>4</th>\n",
       "      <td>A13</td>\n",
       "      <td>812.142857</td>\n",
       "    </tr>\n",
       "    <tr>\n",
       "      <th>5</th>\n",
       "      <td>A14</td>\n",
       "      <td>827.714286</td>\n",
       "    </tr>\n",
       "    <tr>\n",
       "      <th>6</th>\n",
       "      <td>A15</td>\n",
       "      <td>732.714286</td>\n",
       "    </tr>\n",
       "    <tr>\n",
       "      <th>7</th>\n",
       "      <td>A16</td>\n",
       "      <td>575.142857</td>\n",
       "    </tr>\n",
       "    <tr>\n",
       "      <th>8</th>\n",
       "      <td>A17</td>\n",
       "      <td>591.857143</td>\n",
       "    </tr>\n",
       "    <tr>\n",
       "      <th>9</th>\n",
       "      <td>A18</td>\n",
       "      <td>501.000000</td>\n",
       "    </tr>\n",
       "    <tr>\n",
       "      <th>10</th>\n",
       "      <td>A19</td>\n",
       "      <td>429.571429</td>\n",
       "    </tr>\n",
       "    <tr>\n",
       "      <th>11</th>\n",
       "      <td>A2</td>\n",
       "      <td>226.571429</td>\n",
       "    </tr>\n",
       "    <tr>\n",
       "      <th>12</th>\n",
       "      <td>A20</td>\n",
       "      <td>309.000000</td>\n",
       "    </tr>\n",
       "    <tr>\n",
       "      <th>13</th>\n",
       "      <td>A21</td>\n",
       "      <td>246.428571</td>\n",
       "    </tr>\n",
       "    <tr>\n",
       "      <th>14</th>\n",
       "      <td>A22</td>\n",
       "      <td>208.428571</td>\n",
       "    </tr>\n",
       "    <tr>\n",
       "      <th>15</th>\n",
       "      <td>A23</td>\n",
       "      <td>165.142857</td>\n",
       "    </tr>\n",
       "    <tr>\n",
       "      <th>16</th>\n",
       "      <td>A24</td>\n",
       "      <td>174.857143</td>\n",
       "    </tr>\n",
       "    <tr>\n",
       "      <th>17</th>\n",
       "      <td>A25</td>\n",
       "      <td>219.285714</td>\n",
       "    </tr>\n",
       "    <tr>\n",
       "      <th>18</th>\n",
       "      <td>A3</td>\n",
       "      <td>291.714286</td>\n",
       "    </tr>\n",
       "    <tr>\n",
       "      <th>19</th>\n",
       "      <td>A4</td>\n",
       "      <td>486.714286</td>\n",
       "    </tr>\n",
       "    <tr>\n",
       "      <th>20</th>\n",
       "      <td>A5</td>\n",
       "      <td>273.857143</td>\n",
       "    </tr>\n",
       "    <tr>\n",
       "      <th>21</th>\n",
       "      <td>A6</td>\n",
       "      <td>255.142857</td>\n",
       "    </tr>\n",
       "    <tr>\n",
       "      <th>22</th>\n",
       "      <td>A7</td>\n",
       "      <td>387.428571</td>\n",
       "    </tr>\n",
       "    <tr>\n",
       "      <th>23</th>\n",
       "      <td>A8</td>\n",
       "      <td>488.714286</td>\n",
       "    </tr>\n",
       "    <tr>\n",
       "      <th>24</th>\n",
       "      <td>A9</td>\n",
       "      <td>595.142857</td>\n",
       "    </tr>\n",
       "  </tbody>\n",
       "</table>\n",
       "</div>"
      ],
      "text/plain": [
       "   nama_cabang  total_produk_terjual_today\n",
       "0           A1                  314.285714\n",
       "1          A10                  747.714286\n",
       "2          A11                  690.285714\n",
       "3          A12                  737.000000\n",
       "4          A13                  812.142857\n",
       "5          A14                  827.714286\n",
       "6          A15                  732.714286\n",
       "7          A16                  575.142857\n",
       "8          A17                  591.857143\n",
       "9          A18                  501.000000\n",
       "10         A19                  429.571429\n",
       "11          A2                  226.571429\n",
       "12         A20                  309.000000\n",
       "13         A21                  246.428571\n",
       "14         A22                  208.428571\n",
       "15         A23                  165.142857\n",
       "16         A24                  174.857143\n",
       "17         A25                  219.285714\n",
       "18          A3                  291.714286\n",
       "19          A4                  486.714286\n",
       "20          A5                  273.857143\n",
       "21          A6                  255.142857\n",
       "22          A7                  387.428571\n",
       "23          A8                  488.714286\n",
       "24          A9                  595.142857"
      ]
     },
     "execution_count": 11,
     "metadata": {},
     "output_type": "execute_result"
    }
   ],
   "source": [
    "data_penjualan_group_produk_terjual"
   ]
  },
  {
   "cell_type": "code",
   "execution_count": 12,
   "id": "4e7a1973",
   "metadata": {},
   "outputs": [
    {
     "data": {
      "image/png": "[encoded data removed]",
      "text/plain": [
       "<Figure size 432x288 with 1 Axes>"
      ]
     },
     "metadata": {
      "needs_background": "light"
     },
     "output_type": "display_data"
    }
   ],
   "source": [
    "sns.barplot(x=\"nama_cabang\", y=\"total_produk_terjual_today\",data=data_penjualan_group_produk_terjual)\n",
    "plt.show()"
   ]
  },
  {
   "cell_type": "code",
   "execution_count": 13,
   "id": "efe9e0e8",
   "metadata": {},
   "outputs": [
    {
     "ename": "SyntaxError",
     "evalue": "invalid syntax (1762400101.py, line 1)",
     "output_type": "error",
     "traceback": [
      "\u001b[1;36m  Input \u001b[1;32mIn [13]\u001b[1;36m\u001b[0m\n\u001b[1;33m    Dari insight yang didapat, bahwa rata-rata penjualan adalah 451.514286,\u001b[0m\n\u001b[1;37m         ^\u001b[0m\n\u001b[1;31mSyntaxError\u001b[0m\u001b[1;31m:\u001b[0m invalid syntax\n"
     ]
    }
   ],
   "source": [
    "Dari insight yang didapat, bahwa rata-rata penjualan adalah 451.514286, \n",
    "dan rata-rata cabang dengan penjualan terbanyak di cabang A14 dengan mean sebesar 827.714286"
   ]
  },
  {
   "cell_type": "markdown",
   "id": "bc3f94d9",
   "metadata": {},
   "source": [
    "2. pada tanggal berapa pendapatan tertinggi didapatkan ?"
   ]
  },
  {
   "cell_type": "code",
   "execution_count": 14,
   "id": "093ddba1",
   "metadata": {},
   "outputs": [
    {
     "data": {
      "text/plain": [
       "tanggal_penjualan\n",
       "1 Agu 2022     60200000\n",
       "2 Agu 2022     98240000\n",
       "3 Agu 2022    105056000\n",
       "4 Agu 2022    105800000\n",
       "5 Agu 2022    111384000\n",
       "6 Agu 2022     85200000\n",
       "7 Agu 2022     66240000\n",
       "Name: pendapatan_bersih_cabang, dtype: int64"
      ]
     },
     "execution_count": 14,
     "metadata": {},
     "output_type": "execute_result"
    }
   ],
   "source": [
    "# Langkah 1. Mengelompokkan transaksi berdasarkan tanggal\n",
    "data_pendapatan = data_penjualan.groupby('tanggal_penjualan')['pendapatan_bersih_cabang'].sum()\n",
    "data_pendapatan"
   ]
  },
  {
   "cell_type": "code",
   "execution_count": 15,
   "id": "bee42a82",
   "metadata": {},
   "outputs": [
    {
     "data": {
      "text/plain": [
       "tanggal_penjualan\n",
       "5 Agu 2022    111384000\n",
       "4 Agu 2022    105800000\n",
       "3 Agu 2022    105056000\n",
       "2 Agu 2022     98240000\n",
       "6 Agu 2022     85200000\n",
       "7 Agu 2022     66240000\n",
       "1 Agu 2022     60200000\n",
       "Name: pendapatan_bersih_cabang, dtype: int64"
      ]
     },
     "execution_count": 15,
     "metadata": {},
     "output_type": "execute_result"
    }
   ],
   "source": [
    "# Langkah 2. Mengurutkan nilai \n",
    "data_pendapatan.sort_values(ascending = False)"
   ]
  },
  {
   "cell_type": "code",
   "execution_count": 16,
   "id": "e75f4949",
   "metadata": {},
   "outputs": [
    {
     "data": {
      "text/html": [
       "<div>\n",
       "<style scoped>\n",
       "    .dataframe tbody tr th:only-of-type {\n",
       "        vertical-align: middle;\n",
       "    }\n",
       "\n",
       "    .dataframe tbody tr th {\n",
       "        vertical-align: top;\n",
       "    }\n",
       "\n",
       "    .dataframe thead th {\n",
       "        text-align: right;\n",
       "    }\n",
       "</style>\n",
       "<table border=\"1\" class=\"dataframe\">\n",
       "  <thead>\n",
       "    <tr style=\"text-align: right;\">\n",
       "      <th></th>\n",
       "      <th>tanggal_penjualan</th>\n",
       "      <th>pendapatan_terbanyak</th>\n",
       "    </tr>\n",
       "  </thead>\n",
       "  <tbody>\n",
       "    <tr>\n",
       "      <th>0</th>\n",
       "      <td>1 Agu 2022</td>\n",
       "      <td>60200000</td>\n",
       "    </tr>\n",
       "    <tr>\n",
       "      <th>1</th>\n",
       "      <td>2 Agu 2022</td>\n",
       "      <td>98240000</td>\n",
       "    </tr>\n",
       "    <tr>\n",
       "      <th>2</th>\n",
       "      <td>3 Agu 2022</td>\n",
       "      <td>105056000</td>\n",
       "    </tr>\n",
       "    <tr>\n",
       "      <th>3</th>\n",
       "      <td>4 Agu 2022</td>\n",
       "      <td>105800000</td>\n",
       "    </tr>\n",
       "    <tr>\n",
       "      <th>4</th>\n",
       "      <td>5 Agu 2022</td>\n",
       "      <td>111384000</td>\n",
       "    </tr>\n",
       "    <tr>\n",
       "      <th>5</th>\n",
       "      <td>6 Agu 2022</td>\n",
       "      <td>85200000</td>\n",
       "    </tr>\n",
       "    <tr>\n",
       "      <th>6</th>\n",
       "      <td>7 Agu 2022</td>\n",
       "      <td>66240000</td>\n",
       "    </tr>\n",
       "  </tbody>\n",
       "</table>\n",
       "</div>"
      ],
      "text/plain": [
       "  tanggal_penjualan  pendapatan_terbanyak\n",
       "0        1 Agu 2022              60200000\n",
       "1        2 Agu 2022              98240000\n",
       "2        3 Agu 2022             105056000\n",
       "3        4 Agu 2022             105800000\n",
       "4        5 Agu 2022             111384000\n",
       "5        6 Agu 2022              85200000\n",
       "6        7 Agu 2022              66240000"
      ]
     },
     "execution_count": 16,
     "metadata": {},
     "output_type": "execute_result"
    }
   ],
   "source": [
    "data_pendapatan = data_pendapatan.reset_index()\n",
    "data_pendapatan.rename(columns={'pendapatan_bersih_cabang':'pendapatan_terbanyak'},inplace=True)\n",
    "data_pendapatan"
   ]
  },
  {
   "cell_type": "code",
   "execution_count": 17,
   "id": "b67c44a7",
   "metadata": {},
   "outputs": [
    {
     "data": {
      "text/plain": [
       "tanggal_penjualan       object\n",
       "pendapatan_terbanyak     int64\n",
       "dtype: object"
      ]
     },
     "execution_count": 17,
     "metadata": {},
     "output_type": "execute_result"
    }
   ],
   "source": [
    "# Cek tipe data\n",
    "data_pendapatan.dtypes"
   ]
  },
  {
   "cell_type": "code",
   "execution_count": 18,
   "id": "824ada00",
   "metadata": {},
   "outputs": [
    {
     "data": {
      "image/png": "[encoded data removed]",
      "text/plain": [
       "<Figure size 1440x576 with 1 Axes>"
      ]
     },
     "metadata": {
      "needs_background": "light"
     },
     "output_type": "display_data"
    }
   ],
   "source": [
    "# Plot\n",
    "g=sns.relplot(x=\"tanggal_penjualan\", y=\"pendapatan_terbanyak\", kind=\"line\", data=data_pendapatan)\n",
    "g.fig.set_size_inches(20,8)"
   ]
  },
  {
   "cell_type": "markdown",
   "id": "70b8f29c",
   "metadata": {},
   "source": [
    "Line chart menunjukkan pendapatan tertinggi pada tanggal 5 agustus dengan total pendapatan bersih sebanyak Rp.111.384.000 rupiah."
   ]
  },
  {
   "cell_type": "markdown",
   "id": "55dc93e3",
   "metadata": {},
   "source": [
    "3. Karena pendapatan terbesar terjadi pada tanggal 5 agustus, kita cek range tanggal penjualan, tampilkan table jumlah transaksi harian, lalu pada tanggal tersebut berapa total penjualan nya ?"
   ]
  },
  {
   "cell_type": "code",
   "execution_count": 19,
   "id": "6df3bf72",
   "metadata": {},
   "outputs": [
    {
     "data": {
      "text/plain": [
       "tanggal_penjualan\n",
       "1 Agu 2022     7525\n",
       "2 Agu 2022    12280\n",
       "3 Agu 2022    13132\n",
       "4 Agu 2022    13225\n",
       "5 Agu 2022    13923\n",
       "6 Agu 2022    10650\n",
       "7 Agu 2022     8280\n",
       "Name: total_produk_terjual_today, dtype: int64"
      ]
     },
     "execution_count": 19,
     "metadata": {},
     "output_type": "execute_result"
    }
   ],
   "source": [
    "# Langkah 1. Mengelompokkan total produk terjual berdasarkan tanggal\n",
    "data_harian = data_penjualan.groupby('tanggal_penjualan')['total_produk_terjual_today'].sum()\n",
    "data_harian"
   ]
  },
  {
   "cell_type": "code",
   "execution_count": 20,
   "id": "43389cc5",
   "metadata": {},
   "outputs": [
    {
     "data": {
      "text/html": [
       "<div>\n",
       "<style scoped>\n",
       "    .dataframe tbody tr th:only-of-type {\n",
       "        vertical-align: middle;\n",
       "    }\n",
       "\n",
       "    .dataframe tbody tr th {\n",
       "        vertical-align: top;\n",
       "    }\n",
       "\n",
       "    .dataframe thead th {\n",
       "        text-align: right;\n",
       "    }\n",
       "</style>\n",
       "<table border=\"1\" class=\"dataframe\">\n",
       "  <thead>\n",
       "    <tr style=\"text-align: right;\">\n",
       "      <th></th>\n",
       "      <th>tanggal_penjualan</th>\n",
       "      <th>produk_terjual_summary</th>\n",
       "    </tr>\n",
       "  </thead>\n",
       "  <tbody>\n",
       "    <tr>\n",
       "      <th>0</th>\n",
       "      <td>1 Agu 2022</td>\n",
       "      <td>7525</td>\n",
       "    </tr>\n",
       "    <tr>\n",
       "      <th>1</th>\n",
       "      <td>2 Agu 2022</td>\n",
       "      <td>12280</td>\n",
       "    </tr>\n",
       "    <tr>\n",
       "      <th>2</th>\n",
       "      <td>3 Agu 2022</td>\n",
       "      <td>13132</td>\n",
       "    </tr>\n",
       "    <tr>\n",
       "      <th>3</th>\n",
       "      <td>4 Agu 2022</td>\n",
       "      <td>13225</td>\n",
       "    </tr>\n",
       "    <tr>\n",
       "      <th>4</th>\n",
       "      <td>5 Agu 2022</td>\n",
       "      <td>13923</td>\n",
       "    </tr>\n",
       "    <tr>\n",
       "      <th>5</th>\n",
       "      <td>6 Agu 2022</td>\n",
       "      <td>10650</td>\n",
       "    </tr>\n",
       "    <tr>\n",
       "      <th>6</th>\n",
       "      <td>7 Agu 2022</td>\n",
       "      <td>8280</td>\n",
       "    </tr>\n",
       "  </tbody>\n",
       "</table>\n",
       "</div>"
      ],
      "text/plain": [
       "  tanggal_penjualan  produk_terjual_summary\n",
       "0        1 Agu 2022                    7525\n",
       "1        2 Agu 2022                   12280\n",
       "2        3 Agu 2022                   13132\n",
       "3        4 Agu 2022                   13225\n",
       "4        5 Agu 2022                   13923\n",
       "5        6 Agu 2022                   10650\n",
       "6        7 Agu 2022                    8280"
      ]
     },
     "execution_count": 20,
     "metadata": {},
     "output_type": "execute_result"
    }
   ],
   "source": [
    "data_harian = data_harian.reset_index()\n",
    "data_harian.rename(columns={'total_produk_terjual_today':'produk_terjual_summary'},inplace=True)\n",
    "data_harian"
   ]
  },
  {
   "cell_type": "code",
   "execution_count": 21,
   "id": "1400daf0",
   "metadata": {},
   "outputs": [
    {
     "data": {
      "image/png": "[encoded data removed]",
      "text/plain": [
       "<Figure size 1440x576 with 1 Axes>"
      ]
     },
     "metadata": {
      "needs_background": "light"
     },
     "output_type": "display_data"
    }
   ],
   "source": [
    "# Plot\n",
    "g=sns.relplot(x=\"tanggal_penjualan\", y=\"produk_terjual_summary\", kind=\"line\", data=data_harian)\n",
    "g.fig.set_size_inches(20,8)"
   ]
  },
  {
   "cell_type": "markdown",
   "id": "97e99f87",
   "metadata": {},
   "source": [
    "Dari grafik line chart terlihat produk terjual paling banyak pada tanggal 5 agustus sebesar 13923 produk."
   ]
  },
  {
   "cell_type": "markdown",
   "id": "be06ede5",
   "metadata": {},
   "source": [
    "4. Cabang mana yang memiliki penjualan terbanyak ? "
   ]
  },
  {
   "cell_type": "code",
   "execution_count": 22,
   "id": "6b201c20",
   "metadata": {},
   "outputs": [
    {
     "data": {
      "text/plain": [
       "nama_cabang\n",
       "A1     2200\n",
       "A10    5234\n",
       "A11    4832\n",
       "A12    5159\n",
       "A13    5685\n",
       "A14    5794\n",
       "A15    5129\n",
       "A16    4026\n",
       "A17    4143\n",
       "A18    3507\n",
       "A19    3007\n",
       "A2     1586\n",
       "A20    2163\n",
       "A21    1725\n",
       "A22    1459\n",
       "A23    1156\n",
       "A24    1224\n",
       "A25    1535\n",
       "A3     2042\n",
       "A4     3407\n",
       "A5     1917\n",
       "A6     1786\n",
       "A7     2712\n",
       "A8     3421\n",
       "A9     4166\n",
       "Name: total_produk_terjual_today, dtype: int64"
      ]
     },
     "execution_count": 22,
     "metadata": {},
     "output_type": "execute_result"
    }
   ],
   "source": [
    "# Mengelompokkan cabang dengan penjualan terbanyak\n",
    "data_cabang = data_penjualan.groupby('nama_cabang')['total_produk_terjual_today'].sum()\n",
    "data_cabang"
   ]
  },
  {
   "cell_type": "code",
   "execution_count": 23,
   "id": "03b0d7fd",
   "metadata": {},
   "outputs": [
    {
     "data": {
      "text/html": [
       "<div>\n",
       "<style scoped>\n",
       "    .dataframe tbody tr th:only-of-type {\n",
       "        vertical-align: middle;\n",
       "    }\n",
       "\n",
       "    .dataframe tbody tr th {\n",
       "        vertical-align: top;\n",
       "    }\n",
       "\n",
       "    .dataframe thead th {\n",
       "        text-align: right;\n",
       "    }\n",
       "</style>\n",
       "<table border=\"1\" class=\"dataframe\">\n",
       "  <thead>\n",
       "    <tr style=\"text-align: right;\">\n",
       "      <th></th>\n",
       "      <th>nama_cabang</th>\n",
       "      <th>produk_terjual_summary</th>\n",
       "    </tr>\n",
       "  </thead>\n",
       "  <tbody>\n",
       "    <tr>\n",
       "      <th>0</th>\n",
       "      <td>A1</td>\n",
       "      <td>2200</td>\n",
       "    </tr>\n",
       "    <tr>\n",
       "      <th>1</th>\n",
       "      <td>A10</td>\n",
       "      <td>5234</td>\n",
       "    </tr>\n",
       "    <tr>\n",
       "      <th>2</th>\n",
       "      <td>A11</td>\n",
       "      <td>4832</td>\n",
       "    </tr>\n",
       "    <tr>\n",
       "      <th>3</th>\n",
       "      <td>A12</td>\n",
       "      <td>5159</td>\n",
       "    </tr>\n",
       "    <tr>\n",
       "      <th>4</th>\n",
       "      <td>A13</td>\n",
       "      <td>5685</td>\n",
       "    </tr>\n",
       "    <tr>\n",
       "      <th>5</th>\n",
       "      <td>A14</td>\n",
       "      <td>5794</td>\n",
       "    </tr>\n",
       "    <tr>\n",
       "      <th>6</th>\n",
       "      <td>A15</td>\n",
       "      <td>5129</td>\n",
       "    </tr>\n",
       "    <tr>\n",
       "      <th>7</th>\n",
       "      <td>A16</td>\n",
       "      <td>4026</td>\n",
       "    </tr>\n",
       "    <tr>\n",
       "      <th>8</th>\n",
       "      <td>A17</td>\n",
       "      <td>4143</td>\n",
       "    </tr>\n",
       "    <tr>\n",
       "      <th>9</th>\n",
       "      <td>A18</td>\n",
       "      <td>3507</td>\n",
       "    </tr>\n",
       "    <tr>\n",
       "      <th>10</th>\n",
       "      <td>A19</td>\n",
       "      <td>3007</td>\n",
       "    </tr>\n",
       "    <tr>\n",
       "      <th>11</th>\n",
       "      <td>A2</td>\n",
       "      <td>1586</td>\n",
       "    </tr>\n",
       "    <tr>\n",
       "      <th>12</th>\n",
       "      <td>A20</td>\n",
       "      <td>2163</td>\n",
       "    </tr>\n",
       "    <tr>\n",
       "      <th>13</th>\n",
       "      <td>A21</td>\n",
       "      <td>1725</td>\n",
       "    </tr>\n",
       "    <tr>\n",
       "      <th>14</th>\n",
       "      <td>A22</td>\n",
       "      <td>1459</td>\n",
       "    </tr>\n",
       "    <tr>\n",
       "      <th>15</th>\n",
       "      <td>A23</td>\n",
       "      <td>1156</td>\n",
       "    </tr>\n",
       "    <tr>\n",
       "      <th>16</th>\n",
       "      <td>A24</td>\n",
       "      <td>1224</td>\n",
       "    </tr>\n",
       "    <tr>\n",
       "      <th>17</th>\n",
       "      <td>A25</td>\n",
       "      <td>1535</td>\n",
       "    </tr>\n",
       "    <tr>\n",
       "      <th>18</th>\n",
       "      <td>A3</td>\n",
       "      <td>2042</td>\n",
       "    </tr>\n",
       "    <tr>\n",
       "      <th>19</th>\n",
       "      <td>A4</td>\n",
       "      <td>3407</td>\n",
       "    </tr>\n",
       "    <tr>\n",
       "      <th>20</th>\n",
       "      <td>A5</td>\n",
       "      <td>1917</td>\n",
       "    </tr>\n",
       "    <tr>\n",
       "      <th>21</th>\n",
       "      <td>A6</td>\n",
       "      <td>1786</td>\n",
       "    </tr>\n",
       "    <tr>\n",
       "      <th>22</th>\n",
       "      <td>A7</td>\n",
       "      <td>2712</td>\n",
       "    </tr>\n",
       "    <tr>\n",
       "      <th>23</th>\n",
       "      <td>A8</td>\n",
       "      <td>3421</td>\n",
       "    </tr>\n",
       "    <tr>\n",
       "      <th>24</th>\n",
       "      <td>A9</td>\n",
       "      <td>4166</td>\n",
       "    </tr>\n",
       "  </tbody>\n",
       "</table>\n",
       "</div>"
      ],
      "text/plain": [
       "   nama_cabang  produk_terjual_summary\n",
       "0           A1                    2200\n",
       "1          A10                    5234\n",
       "2          A11                    4832\n",
       "3          A12                    5159\n",
       "4          A13                    5685\n",
       "5          A14                    5794\n",
       "6          A15                    5129\n",
       "7          A16                    4026\n",
       "8          A17                    4143\n",
       "9          A18                    3507\n",
       "10         A19                    3007\n",
       "11          A2                    1586\n",
       "12         A20                    2163\n",
       "13         A21                    1725\n",
       "14         A22                    1459\n",
       "15         A23                    1156\n",
       "16         A24                    1224\n",
       "17         A25                    1535\n",
       "18          A3                    2042\n",
       "19          A4                    3407\n",
       "20          A5                    1917\n",
       "21          A6                    1786\n",
       "22          A7                    2712\n",
       "23          A8                    3421\n",
       "24          A9                    4166"
      ]
     },
     "execution_count": 23,
     "metadata": {},
     "output_type": "execute_result"
    }
   ],
   "source": [
    "data_cabang = data_cabang.reset_index()\n",
    "data_cabang.rename(columns={'total_produk_terjual_today':'produk_terjual_summary'},inplace=True)\n",
    "data_cabang"
   ]
  },
  {
   "cell_type": "code",
   "execution_count": 24,
   "id": "75a0d45b",
   "metadata": {},
   "outputs": [
    {
     "data": {
      "image/png": "[encoded data removed]",
      "text/plain": [
       "<Figure size 432x288 with 1 Axes>"
      ]
     },
     "metadata": {
      "needs_background": "light"
     },
     "output_type": "display_data"
    }
   ],
   "source": [
    "sns.barplot(x=\"nama_cabang\", y=\"produk_terjual_summary\", data=data_cabang)\n",
    "plt.show()"
   ]
  },
  {
   "cell_type": "markdown",
   "id": "965bc6e0",
   "metadata": {},
   "source": [
    "Pada hasil visualisasi terlihat bahwa, cabang dengan penjualan terbanyak adalah di cabang A14 dengan total produk terjual sebanyak 5794."
   ]
  },
  {
   "cell_type": "markdown",
   "id": "fb434f57",
   "metadata": {},
   "source": [
    "5. Cabang yang memiliki penjualan terendah ?"
   ]
  },
  {
   "cell_type": "code",
   "execution_count": 25,
   "id": "bdbde2ea",
   "metadata": {},
   "outputs": [
    {
     "data": {
      "text/plain": [
       "nama_cabang\n",
       "A1     129\n",
       "A10    115\n",
       "A11    262\n",
       "A12    353\n",
       "A13    538\n",
       "A14    537\n",
       "A15    355\n",
       "A16    142\n",
       "A17    246\n",
       "A18    218\n",
       "A19    176\n",
       "A2      49\n",
       "A20     73\n",
       "A21     74\n",
       "A22     76\n",
       "A23     47\n",
       "A24     61\n",
       "A25     20\n",
       "A3      75\n",
       "A4     131\n",
       "A5      73\n",
       "A6     111\n",
       "A7      47\n",
       "A8     141\n",
       "A9     105\n",
       "Name: total_produk_terjual_today, dtype: int64"
      ]
     },
     "execution_count": 25,
     "metadata": {},
     "output_type": "execute_result"
    }
   ],
   "source": [
    "# Langkah 1. Mengelompokkan transaksi berdasarkan cabang sama seperti langkah sebelumnya, tetapi kita ganti sum dengan min\n",
    "data_cabang = data_penjualan.groupby('nama_cabang')['total_produk_terjual_today'].min()\n",
    "data_cabang"
   ]
  },
  {
   "cell_type": "code",
   "execution_count": 26,
   "id": "c300ae74",
   "metadata": {},
   "outputs": [
    {
     "data": {
      "text/html": [
       "<div>\n",
       "<style scoped>\n",
       "    .dataframe tbody tr th:only-of-type {\n",
       "        vertical-align: middle;\n",
       "    }\n",
       "\n",
       "    .dataframe tbody tr th {\n",
       "        vertical-align: top;\n",
       "    }\n",
       "\n",
       "    .dataframe thead th {\n",
       "        text-align: right;\n",
       "    }\n",
       "</style>\n",
       "<table border=\"1\" class=\"dataframe\">\n",
       "  <thead>\n",
       "    <tr style=\"text-align: right;\">\n",
       "      <th></th>\n",
       "      <th>nama_cabang</th>\n",
       "      <th>produk_terjual_terendah</th>\n",
       "    </tr>\n",
       "  </thead>\n",
       "  <tbody>\n",
       "    <tr>\n",
       "      <th>0</th>\n",
       "      <td>A1</td>\n",
       "      <td>129</td>\n",
       "    </tr>\n",
       "    <tr>\n",
       "      <th>1</th>\n",
       "      <td>A10</td>\n",
       "      <td>115</td>\n",
       "    </tr>\n",
       "    <tr>\n",
       "      <th>2</th>\n",
       "      <td>A11</td>\n",
       "      <td>262</td>\n",
       "    </tr>\n",
       "    <tr>\n",
       "      <th>3</th>\n",
       "      <td>A12</td>\n",
       "      <td>353</td>\n",
       "    </tr>\n",
       "    <tr>\n",
       "      <th>4</th>\n",
       "      <td>A13</td>\n",
       "      <td>538</td>\n",
       "    </tr>\n",
       "    <tr>\n",
       "      <th>5</th>\n",
       "      <td>A14</td>\n",
       "      <td>537</td>\n",
       "    </tr>\n",
       "    <tr>\n",
       "      <th>6</th>\n",
       "      <td>A15</td>\n",
       "      <td>355</td>\n",
       "    </tr>\n",
       "    <tr>\n",
       "      <th>7</th>\n",
       "      <td>A16</td>\n",
       "      <td>142</td>\n",
       "    </tr>\n",
       "    <tr>\n",
       "      <th>8</th>\n",
       "      <td>A17</td>\n",
       "      <td>246</td>\n",
       "    </tr>\n",
       "    <tr>\n",
       "      <th>9</th>\n",
       "      <td>A18</td>\n",
       "      <td>218</td>\n",
       "    </tr>\n",
       "    <tr>\n",
       "      <th>10</th>\n",
       "      <td>A19</td>\n",
       "      <td>176</td>\n",
       "    </tr>\n",
       "    <tr>\n",
       "      <th>11</th>\n",
       "      <td>A2</td>\n",
       "      <td>49</td>\n",
       "    </tr>\n",
       "    <tr>\n",
       "      <th>12</th>\n",
       "      <td>A20</td>\n",
       "      <td>73</td>\n",
       "    </tr>\n",
       "    <tr>\n",
       "      <th>13</th>\n",
       "      <td>A21</td>\n",
       "      <td>74</td>\n",
       "    </tr>\n",
       "    <tr>\n",
       "      <th>14</th>\n",
       "      <td>A22</td>\n",
       "      <td>76</td>\n",
       "    </tr>\n",
       "    <tr>\n",
       "      <th>15</th>\n",
       "      <td>A23</td>\n",
       "      <td>47</td>\n",
       "    </tr>\n",
       "    <tr>\n",
       "      <th>16</th>\n",
       "      <td>A24</td>\n",
       "      <td>61</td>\n",
       "    </tr>\n",
       "    <tr>\n",
       "      <th>17</th>\n",
       "      <td>A25</td>\n",
       "      <td>20</td>\n",
       "    </tr>\n",
       "    <tr>\n",
       "      <th>18</th>\n",
       "      <td>A3</td>\n",
       "      <td>75</td>\n",
       "    </tr>\n",
       "    <tr>\n",
       "      <th>19</th>\n",
       "      <td>A4</td>\n",
       "      <td>131</td>\n",
       "    </tr>\n",
       "    <tr>\n",
       "      <th>20</th>\n",
       "      <td>A5</td>\n",
       "      <td>73</td>\n",
       "    </tr>\n",
       "    <tr>\n",
       "      <th>21</th>\n",
       "      <td>A6</td>\n",
       "      <td>111</td>\n",
       "    </tr>\n",
       "    <tr>\n",
       "      <th>22</th>\n",
       "      <td>A7</td>\n",
       "      <td>47</td>\n",
       "    </tr>\n",
       "    <tr>\n",
       "      <th>23</th>\n",
       "      <td>A8</td>\n",
       "      <td>141</td>\n",
       "    </tr>\n",
       "    <tr>\n",
       "      <th>24</th>\n",
       "      <td>A9</td>\n",
       "      <td>105</td>\n",
       "    </tr>\n",
       "  </tbody>\n",
       "</table>\n",
       "</div>"
      ],
      "text/plain": [
       "   nama_cabang  produk_terjual_terendah\n",
       "0           A1                      129\n",
       "1          A10                      115\n",
       "2          A11                      262\n",
       "3          A12                      353\n",
       "4          A13                      538\n",
       "5          A14                      537\n",
       "6          A15                      355\n",
       "7          A16                      142\n",
       "8          A17                      246\n",
       "9          A18                      218\n",
       "10         A19                      176\n",
       "11          A2                       49\n",
       "12         A20                       73\n",
       "13         A21                       74\n",
       "14         A22                       76\n",
       "15         A23                       47\n",
       "16         A24                       61\n",
       "17         A25                       20\n",
       "18          A3                       75\n",
       "19          A4                      131\n",
       "20          A5                       73\n",
       "21          A6                      111\n",
       "22          A7                       47\n",
       "23          A8                      141\n",
       "24          A9                      105"
      ]
     },
     "execution_count": 26,
     "metadata": {},
     "output_type": "execute_result"
    }
   ],
   "source": [
    "data_cabang = data_cabang.reset_index()\n",
    "data_cabang.rename(columns={'total_produk_terjual_today':'produk_terjual_terendah'},inplace=True)\n",
    "data_cabang"
   ]
  },
  {
   "cell_type": "code",
   "execution_count": 27,
   "id": "d89f2362",
   "metadata": {},
   "outputs": [
    {
     "data": {
      "image/png": "[encoded data removed]",
      "text/plain": [
       "<Figure size 432x288 with 1 Axes>"
      ]
     },
     "metadata": {
      "needs_background": "light"
     },
     "output_type": "display_data"
    }
   ],
   "source": [
    "sns.barplot(x=\"nama_cabang\", y=\"produk_terjual_terendah\", data=data_cabang)\n",
    "plt.show()"
   ]
  },
  {
   "cell_type": "markdown",
   "id": "748c1561",
   "metadata": {},
   "source": [
    "Dari grafik cabang dengan penjualan terendah yaitu pada cabang A25 dengan total penjualan 20 produk, hal ini terjadi karena cabang A25 merupakan anak cabang yang baru saja launcing di wilayah tersebut.\n",
    "Saran : Buat trust ke masyarakat pada wilayah tersebut agar mereka mau membeli produk kita. dengan cara meningkatkan promosi dan edukasi tentang manfaat produk kita."
   ]
  }
 ],
 "metadata": {
  "kernelspec": {
   "display_name": "Python 3 (ipykernel)",
   "language": "python",
   "name": "python3"
  },
  "language_info": {
   "codemirror_mode": {
    "name": "ipython",
    "version": 3
   },
   "file_extension": ".py",
   "mimetype": "text/x-python",
   "name": "python",
   "nbconvert_exporter": "python",
   "pygments_lexer": "ipython3",
   "version": "3.9.12"
  }
 },
 "nbformat": 4,
 "nbformat_minor": 5
}
